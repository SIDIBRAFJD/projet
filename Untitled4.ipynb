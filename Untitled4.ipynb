{
 "cells": [
  {
   "cell_type": "code",
   "execution_count": null,
   "id": "0c325794",
   "metadata": {},
   "outputs": [],
   "source": [
    "import ee, eemont, geemap\n",
    "import pandas as pd\n",
    "import numpy as np\n",
    "import seaborn as sns\n",
    "from matplotlib import pyplot as plt\n",
    "\n",
    "Map = geemap.Map()\n",
    "geom = ee.Geometry.Polygon(\n",
    "  [[[-15.327075719833374,16.843462950466662],\n",
    "  [-15.325809717178345,16.84301113290545],\n",
    "  [-15.328245162963865,16.836870414568292],\n",
    "  [-15.329457521438599,16.83734278458931]]]).buffer(50)\n",
    "s2 = ((ee.ImageCollection('COPERNICUS/S2_SR'))\n",
    "      .filterDate('2019-07-01','2022-04-20')\n",
    "      .filterBounds(geom)\n",
    "      .maskClouds()\n",
    "      .scaleAndOffset()\n",
    "      .spectralIndices(['NDVI']))\n",
    "ts = s2.getTimeSeriesByRegion(geometry = geom,\n",
    "                              bands = ['NDVI'],\n",
    "                              reducer = [ee.Reducer.mean()],\n",
    "                              scale = 30)\n",
    "tsPandas = geemap.ee_to_pandas(ts)\n",
    "tsPandas['date'] = pd.to_datetime(tsPandas['date'],infer_datetime_format = True)\n",
    "tsPandas = pd.melt(tsPandas,\n",
    "                   id_vars = ['reducer','date'],\n",
    "                   value_vars = ['NDVI'],\n",
    "                   var_name = 'Index',\n",
    "                   value_name = 'Value')\n",
    "tsPandas.drop( tsPandas[ tsPandas['Value'] ==-9999 ].index, inplace=True)\n",
    "plt.figure(figsize = (20,10))\n",
    "plt.ylim(-0.5, 1),\n",
    "sns.lineplot(data = tsPandas,\n",
    "             x = 'date' ,\n",
    "             y = 'Value',\n",
    "             hue = 'Index')\n",
    "plt.title('Zonal mean of vegetation timeseries',fontsize=25),\n",
    "plt.xlabel('Date', fontsize=20);\n",
    "plt.ylabel('NDVI', fontsize=20);\n",
    "plt.legend( fontsize =25)"
   ]
  },
  {
   "cell_type": "code",
   "execution_count": null,
   "id": "0a3c0701",
   "metadata": {},
   "outputs": [],
   "source": []
  }
 ],
 "metadata": {
  "kernelspec": {
   "display_name": "Python 3 (ipykernel)",
   "language": "python",
   "name": "python3"
  },
  "language_info": {
   "codemirror_mode": {
    "name": "ipython",
    "version": 3
   },
   "file_extension": ".py",
   "mimetype": "text/x-python",
   "name": "python",
   "nbconvert_exporter": "python",
   "pygments_lexer": "ipython3",
   "version": "3.9.7"
  }
 },
 "nbformat": 4,
 "nbformat_minor": 5
}
